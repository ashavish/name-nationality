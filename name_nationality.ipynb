{
  "nbformat": 4,
  "nbformat_minor": 0,
  "metadata": {
    "colab": {
      "name": "name-nationality.ipynb",
      "provenance": [],
      "authorship_tag": "ABX9TyNDkjR/WlJWjxDTfI3+obIk",
      "include_colab_link": true
    },
    "kernelspec": {
      "name": "python3",
      "display_name": "Python 3"
    }
  },
  "cells": [
    {
      "cell_type": "markdown",
      "metadata": {
        "id": "view-in-github",
        "colab_type": "text"
      },
      "source": [
        "<a href=\"https://colab.research.google.com/github/ashavish/name-nationality/blob/master/name_nationality.ipynb\" target=\"_parent\"><img src=\"https://colab.research.google.com/assets/colab-badge.svg\" alt=\"Open In Colab\"/></a>"
      ]
    },
    {
      "cell_type": "markdown",
      "metadata": {
        "id": "pbfyP2xM0CF7",
        "colab_type": "text"
      },
      "source": [
        "# Experiments with models to derive nationality of Indian / Non-Indian from names"
      ]
    },
    {
      "cell_type": "code",
      "metadata": {
        "id": "Dbc80CcKbZlE",
        "colab_type": "code",
        "colab": {}
      },
      "source": [
        "from tensorflow import keras\n",
        "import tensorflow as tf\n",
        "import pandas as pd\n",
        "import os\n",
        "import re"
      ],
      "execution_count": 2,
      "outputs": []
    },
    {
      "cell_type": "code",
      "metadata": {
        "id": "gvq04Du2brYE",
        "colab_type": "code",
        "colab": {
          "base_uri": "https://localhost:8080/",
          "height": 34
        },
        "outputId": "9865c2f5-9e60-4f2b-e46f-89f18cc12568"
      },
      "source": [
        "print(tf.__version__)"
      ],
      "execution_count": null,
      "outputs": [
        {
          "output_type": "stream",
          "text": [
            "2.3.0\n"
          ],
          "name": "stdout"
        }
      ]
    },
    {
      "cell_type": "markdown",
      "metadata": {
        "id": "UomqHfGbfgTK",
        "colab_type": "text"
      },
      "source": [
        "# Data Loading and Cleaning\n",
        "Ref Data - https://www.kaggle.com/chaitanyapatil7/indian-names\n",
        "<br>\n",
        "Import Male and Female Indian Names\n"
      ]
    },
    {
      "cell_type": "code",
      "metadata": {
        "id": "NWlWNJlab1Bt",
        "colab_type": "code",
        "colab": {}
      },
      "source": [
        "f_url = \"https://raw.githubusercontent.com/ashavish/name-nationality/master/data/datasets_70812_149772_Indian-Female-Names.csv\"\n",
        "m_url = \"https://raw.githubusercontent.com/ashavish/name-nationality/master/data/datasets_70812_149772_Indian-Male-Names.csv\"\n",
        "\n",
        "male_data = pd.read_csv(m_url)\n",
        "female_data = pd.read_csv(f_url)"
      ],
      "execution_count": null,
      "outputs": []
    },
    {
      "cell_type": "code",
      "metadata": {
        "id": "nlhlpq62d7Q5",
        "colab_type": "code",
        "colab": {
          "base_uri": "https://localhost:8080/",
          "height": 34
        },
        "outputId": "463392d5-d57c-4422-dac0-618a3403255b"
      },
      "source": [
        "repl_list = ['s/o','d/o','w/o','/','&',',','-']\n",
        "\n",
        "def clean_data(name):\n",
        "\tname = str(name).lower()\n",
        "\tname = (''.join(i for i in name if ord(i)<128)).strip()\n",
        "\tfor repl in repl_list:\n",
        "\t\tname = name.replace(repl,\" \")\n",
        "\tif '@' in name:\n",
        "\t\tpos = name.find('@')\n",
        "\t\tname = name[:pos].strip()\n",
        "\tname = name.split(\" \")\n",
        "\tname = \" \".join([each.strip() for each in name])\n",
        "\treturn name\n",
        "\n",
        "def remove_records(merged_data):\n",
        "\tmerged_data['delete'] = 0\n",
        "\tmerged_data.loc[merged_data['name'].str.find('with') != -1,'delete'] = 1\t\n",
        "\tmerged_data.loc[merged_data['count_words']>=5,'delete']=1\n",
        "\tmerged_data.loc[merged_data['count_words']==0,'delete']=1\n",
        "\tmerged_data.loc[merged_data['name'].str.contains(r'\\d') == True,'delete']=1\n",
        "\tcleaned_data = merged_data[merged_data.delete==0]\n",
        "\treturn cleaned_data\n",
        "\n",
        "merged_data = pd.concat((male_data,female_data),axis=0)\n",
        "\n",
        "merged_data['name'] = merged_data['name'].apply(clean_data)\n",
        "merged_data['count_words'] = merged_data['name'].str.split().apply(len)\n",
        "\n",
        "cleaned_data = remove_records(merged_data)\n",
        "\n",
        "indian_cleaned_data = cleaned_data[['name','count_words']].drop_duplicates(subset='name',keep='first')\n",
        "indian_cleaned_data['label'] = 'indian'\n",
        "\n",
        "len(indian_cleaned_data)"
      ],
      "execution_count": null,
      "outputs": [
        {
          "output_type": "execute_result",
          "data": {
            "text/plain": [
              "13754"
            ]
          },
          "metadata": {
            "tags": []
          },
          "execution_count": 14
        }
      ]
    },
    {
      "cell_type": "code",
      "metadata": {
        "id": "63XS_psZhKRI",
        "colab_type": "code",
        "colab": {
          "base_uri": "https://localhost:8080/",
          "height": 204
        },
        "outputId": "8ecee80c-6730-4ff4-8301-775ec859cca0"
      },
      "source": [
        "indian_cleaned_data.head()"
      ],
      "execution_count": null,
      "outputs": [
        {
          "output_type": "execute_result",
          "data": {
            "text/html": [
              "<div>\n",
              "<style scoped>\n",
              "    .dataframe tbody tr th:only-of-type {\n",
              "        vertical-align: middle;\n",
              "    }\n",
              "\n",
              "    .dataframe tbody tr th {\n",
              "        vertical-align: top;\n",
              "    }\n",
              "\n",
              "    .dataframe thead th {\n",
              "        text-align: right;\n",
              "    }\n",
              "</style>\n",
              "<table border=\"1\" class=\"dataframe\">\n",
              "  <thead>\n",
              "    <tr style=\"text-align: right;\">\n",
              "      <th></th>\n",
              "      <th>name</th>\n",
              "      <th>count_words</th>\n",
              "      <th>label</th>\n",
              "    </tr>\n",
              "  </thead>\n",
              "  <tbody>\n",
              "    <tr>\n",
              "      <th>0</th>\n",
              "      <td>barjraj</td>\n",
              "      <td>1</td>\n",
              "      <td>indian</td>\n",
              "    </tr>\n",
              "    <tr>\n",
              "      <th>1</th>\n",
              "      <td>ramdin verma</td>\n",
              "      <td>2</td>\n",
              "      <td>indian</td>\n",
              "    </tr>\n",
              "    <tr>\n",
              "      <th>2</th>\n",
              "      <td>sharat chandran</td>\n",
              "      <td>2</td>\n",
              "      <td>indian</td>\n",
              "    </tr>\n",
              "    <tr>\n",
              "      <th>3</th>\n",
              "      <td>birender mandal</td>\n",
              "      <td>2</td>\n",
              "      <td>indian</td>\n",
              "    </tr>\n",
              "    <tr>\n",
              "      <th>4</th>\n",
              "      <td>amit</td>\n",
              "      <td>1</td>\n",
              "      <td>indian</td>\n",
              "    </tr>\n",
              "  </tbody>\n",
              "</table>\n",
              "</div>"
            ],
            "text/plain": [
              "              name  count_words   label\n",
              "0          barjraj            1  indian\n",
              "1     ramdin verma            2  indian\n",
              "2  sharat chandran            2  indian\n",
              "3  birender mandal            2  indian\n",
              "4             amit            1  indian"
            ]
          },
          "metadata": {
            "tags": []
          },
          "execution_count": 15
        }
      ]
    },
    {
      "cell_type": "markdown",
      "metadata": {
        "id": "CwYWD4NEiGW_",
        "colab_type": "text"
      },
      "source": [
        "Lets create some non-Indian names using Faker - a pretty cool package to generate realistic names from different regions"
      ]
    },
    {
      "cell_type": "code",
      "metadata": {
        "id": "onpB99pVfJc7",
        "colab_type": "code",
        "colab": {}
      },
      "source": [
        "#!pip3 install faker\n",
        "from faker import Faker\n",
        "import random\n",
        "req = 15000\n",
        "non_indian_names = []\n",
        "\n",
        "langs = ['ar_EG','bs_BA','de_DE','dk_DK','en_AU','en_CA','en_GB',\n",
        "'en_IN','en_NZ','en_US','it_IT','no_NO','ro_RO']\n",
        "\n",
        "for i in range(0,req):\n",
        "\tlng_indx = random.randint(0,len(langs)-1)\n",
        "\tfake = Faker(langs[lng_indx])\n",
        "\tnon_indian_names.append(fake.name().lower())\n",
        "\n",
        "non_indian_names_orig = list(set(non_indian_names))\n"
      ],
      "execution_count": null,
      "outputs": []
    },
    {
      "cell_type": "code",
      "metadata": {
        "id": "BmPIR4YqiJ_G",
        "colab_type": "code",
        "colab": {
          "base_uri": "https://localhost:8080/",
          "height": 34
        },
        "outputId": "1cb817eb-f51d-4233-f87c-242a5a6819db"
      },
      "source": [
        "len(non_indian_names_orig)"
      ],
      "execution_count": null,
      "outputs": [
        {
          "output_type": "execute_result",
          "data": {
            "text/plain": [
              "14561"
            ]
          },
          "metadata": {
            "tags": []
          },
          "execution_count": 22
        }
      ]
    },
    {
      "cell_type": "code",
      "metadata": {
        "id": "ZMhbVP6_iPWY",
        "colab_type": "code",
        "colab": {
          "base_uri": "https://localhost:8080/",
          "height": 204
        },
        "outputId": "5242d20c-b5cd-4430-a855-2c8860e25c25"
      },
      "source": [
        "non_indian_data = pd.DataFrame({'name':non_indian_names_orig})\n",
        "non_indian_data['count_words'] = non_indian_data['name'].str.split().apply(len)\n",
        "non_indian_data.head()"
      ],
      "execution_count": null,
      "outputs": [
        {
          "output_type": "execute_result",
          "data": {
            "text/html": [
              "<div>\n",
              "<style scoped>\n",
              "    .dataframe tbody tr th:only-of-type {\n",
              "        vertical-align: middle;\n",
              "    }\n",
              "\n",
              "    .dataframe tbody tr th {\n",
              "        vertical-align: top;\n",
              "    }\n",
              "\n",
              "    .dataframe thead th {\n",
              "        text-align: right;\n",
              "    }\n",
              "</style>\n",
              "<table border=\"1\" class=\"dataframe\">\n",
              "  <thead>\n",
              "    <tr style=\"text-align: right;\">\n",
              "      <th></th>\n",
              "      <th>name</th>\n",
              "      <th>count_words</th>\n",
              "    </tr>\n",
              "  </thead>\n",
              "  <tbody>\n",
              "    <tr>\n",
              "      <th>0</th>\n",
              "      <td>sara gulbrandsen</td>\n",
              "      <td>2</td>\n",
              "    </tr>\n",
              "    <tr>\n",
              "      <th>1</th>\n",
              "      <td>kathryn villarreal</td>\n",
              "      <td>2</td>\n",
              "    </tr>\n",
              "    <tr>\n",
              "      <th>2</th>\n",
              "      <td>jennifer mccormick</td>\n",
              "      <td>2</td>\n",
              "    </tr>\n",
              "    <tr>\n",
              "      <th>3</th>\n",
              "      <td>james eaton</td>\n",
              "      <td>2</td>\n",
              "    </tr>\n",
              "    <tr>\n",
              "      <th>4</th>\n",
              "      <td>melissa bond</td>\n",
              "      <td>2</td>\n",
              "    </tr>\n",
              "  </tbody>\n",
              "</table>\n",
              "</div>"
            ],
            "text/plain": [
              "                 name  count_words\n",
              "0    sara gulbrandsen            2\n",
              "1  kathryn villarreal            2\n",
              "2  jennifer mccormick            2\n",
              "3         james eaton            2\n",
              "4        melissa bond            2"
            ]
          },
          "metadata": {
            "tags": []
          },
          "execution_count": 26
        }
      ]
    },
    {
      "cell_type": "markdown",
      "metadata": {
        "id": "QhztvONSiUQx",
        "colab_type": "text"
      },
      "source": [
        "Lets check the distribution of count of words in names. We dont want them to be too different"
      ]
    },
    {
      "cell_type": "code",
      "metadata": {
        "id": "53CFXZ45gJxW",
        "colab_type": "code",
        "colab": {
          "base_uri": "https://localhost:8080/",
          "height": 102
        },
        "outputId": "ac75aed6-b376-4598-a0b4-b01bdb03759d"
      },
      "source": [
        "indian_cleaned_data['count_words'].value_counts()\n"
      ],
      "execution_count": null,
      "outputs": [
        {
          "output_type": "execute_result",
          "data": {
            "text/plain": [
              "2    7954\n",
              "1    4322\n",
              "3    1344\n",
              "4     134\n",
              "Name: count_words, dtype: int64"
            ]
          },
          "metadata": {
            "tags": []
          },
          "execution_count": 18
        }
      ]
    },
    {
      "cell_type": "code",
      "metadata": {
        "id": "miobacqHihPl",
        "colab_type": "code",
        "colab": {
          "base_uri": "https://localhost:8080/",
          "height": 102
        },
        "outputId": "906f4f3c-17bf-4377-cb2c-2069fb4ee33c"
      },
      "source": [
        "non_indian_data['count_words'].value_counts()"
      ],
      "execution_count": null,
      "outputs": [
        {
          "output_type": "execute_result",
          "data": {
            "text/plain": [
              "2    12785\n",
              "3     1586\n",
              "4      189\n",
              "5        1\n",
              "Name: count_words, dtype: int64"
            ]
          },
          "metadata": {
            "tags": []
          },
          "execution_count": 24
        }
      ]
    },
    {
      "cell_type": "markdown",
      "metadata": {
        "id": "leg-a9-YipTD",
        "colab_type": "text"
      },
      "source": [
        "We dont see any one word names at all, so lets just get some first names"
      ]
    },
    {
      "cell_type": "code",
      "metadata": {
        "id": "KiakWc3qim1M",
        "colab_type": "code",
        "colab": {
          "base_uri": "https://localhost:8080/",
          "height": 102
        },
        "outputId": "89010055-05e2-4db8-eebe-75df4010a6b6"
      },
      "source": [
        "two_word_names = non_indian_data[non_indian_data['count_words']==2]['name']\n",
        "one_word_req = 5000\n",
        "names_one_two_words = [each.split()[0] for each in two_word_names[:one_word_req]] + list(two_word_names[one_word_req:])\n",
        "count_words = [1] * one_word_req + [2] * len(two_word_names[one_word_req:])\n",
        "not_two_words_pd  = non_indian_data[non_indian_data['count_words']!=2]\n",
        "one_two_words_pd = pd.DataFrame({'name':names_one_two_words,'count_words':count_words})\n",
        "non_indian_data = pd.concat((not_two_words_pd,one_two_words_pd),axis=0)\n",
        "non_indian_data['count_words'].value_counts()\n",
        "non_indian_data['label'] = 'non_indian'\n",
        "non_indian_data = non_indian_data[non_indian_data['count_words']<5]\n",
        "non_indian_data['count_words'].value_counts()"
      ],
      "execution_count": null,
      "outputs": [
        {
          "output_type": "execute_result",
          "data": {
            "text/plain": [
              "2    7785\n",
              "1    5000\n",
              "3    1586\n",
              "4     189\n",
              "Name: count_words, dtype: int64"
            ]
          },
          "metadata": {
            "tags": []
          },
          "execution_count": 27
        }
      ]
    },
    {
      "cell_type": "code",
      "metadata": {
        "id": "xM5vFJSsi1nk",
        "colab_type": "code",
        "colab": {
          "base_uri": "https://localhost:8080/",
          "height": 17
        },
        "outputId": "1d8fad22-3919-4524-8ac6-2292af58b6e8"
      },
      "source": [
        "full_data = pd.concat((non_indian_data[['name','label']],indian_cleaned_data[['name','label']]),axis=0)\n",
        "full_data = full_data.sample(frac=1)\n",
        "\n",
        "full_data.to_csv(\"name_data.csv\",index=False)\n",
        "\n",
        "from google.colab import files\n",
        "files.download('name_data.csv')"
      ],
      "execution_count": null,
      "outputs": [
        {
          "output_type": "display_data",
          "data": {
            "application/javascript": [
              "\n",
              "    async function download(id, filename, size) {\n",
              "      if (!google.colab.kernel.accessAllowed) {\n",
              "        return;\n",
              "      }\n",
              "      const div = document.createElement('div');\n",
              "      const label = document.createElement('label');\n",
              "      label.textContent = `Downloading \"${filename}\": `;\n",
              "      div.appendChild(label);\n",
              "      const progress = document.createElement('progress');\n",
              "      progress.max = size;\n",
              "      div.appendChild(progress);\n",
              "      document.body.appendChild(div);\n",
              "\n",
              "      const buffers = [];\n",
              "      let downloaded = 0;\n",
              "\n",
              "      const channel = await google.colab.kernel.comms.open(id);\n",
              "      // Send a message to notify the kernel that we're ready.\n",
              "      channel.send({})\n",
              "\n",
              "      for await (const message of channel.messages) {\n",
              "        // Send a message to notify the kernel that we're ready.\n",
              "        channel.send({})\n",
              "        if (message.buffers) {\n",
              "          for (const buffer of message.buffers) {\n",
              "            buffers.push(buffer);\n",
              "            downloaded += buffer.byteLength;\n",
              "            progress.value = downloaded;\n",
              "          }\n",
              "        }\n",
              "      }\n",
              "      const blob = new Blob(buffers, {type: 'application/binary'});\n",
              "      const a = document.createElement('a');\n",
              "      a.href = window.URL.createObjectURL(blob);\n",
              "      a.download = filename;\n",
              "      div.appendChild(a);\n",
              "      a.click();\n",
              "      div.remove();\n",
              "    }\n",
              "  "
            ],
            "text/plain": [
              "<IPython.core.display.Javascript object>"
            ]
          },
          "metadata": {
            "tags": []
          }
        },
        {
          "output_type": "display_data",
          "data": {
            "application/javascript": [
              "download(\"download_8275c382-9f66-41df-be97-cc1e4d17a3fb\", \"name_data.csv\", 608866)"
            ],
            "text/plain": [
              "<IPython.core.display.Javascript object>"
            ]
          },
          "metadata": {
            "tags": []
          }
        }
      ]
    },
    {
      "cell_type": "markdown",
      "metadata": {
        "id": "jyQAqpNdkgXz",
        "colab_type": "text"
      },
      "source": [
        "# Get processed data files and split into train and test"
      ]
    },
    {
      "cell_type": "code",
      "metadata": {
        "id": "C_TCTY1gkZ0Q",
        "colab_type": "code",
        "colab": {}
      },
      "source": [
        "data_url = \"https://raw.githubusercontent.com/ashavish/name-nationality/master/data/name_data.csv\"\n",
        "name_data = pd.read_csv(data_url)"
      ],
      "execution_count": 3,
      "outputs": []
    },
    {
      "cell_type": "code",
      "metadata": {
        "id": "H8UpNDKBlb7I",
        "colab_type": "code",
        "colab": {
          "base_uri": "https://localhost:8080/",
          "height": 204
        },
        "outputId": "361f2760-fbda-4590-9cdc-10141abb7105"
      },
      "source": [
        "name_data.head()"
      ],
      "execution_count": null,
      "outputs": [
        {
          "output_type": "execute_result",
          "data": {
            "text/html": [
              "<div>\n",
              "<style scoped>\n",
              "    .dataframe tbody tr th:only-of-type {\n",
              "        vertical-align: middle;\n",
              "    }\n",
              "\n",
              "    .dataframe tbody tr th {\n",
              "        vertical-align: top;\n",
              "    }\n",
              "\n",
              "    .dataframe thead th {\n",
              "        text-align: right;\n",
              "    }\n",
              "</style>\n",
              "<table border=\"1\" class=\"dataframe\">\n",
              "  <thead>\n",
              "    <tr style=\"text-align: right;\">\n",
              "      <th></th>\n",
              "      <th>name</th>\n",
              "      <th>label</th>\n",
              "    </tr>\n",
              "  </thead>\n",
              "  <tbody>\n",
              "    <tr>\n",
              "      <th>0</th>\n",
              "      <td>tufail ahamd</td>\n",
              "      <td>indian</td>\n",
              "    </tr>\n",
              "    <tr>\n",
              "      <th>1</th>\n",
              "      <td>md savir</td>\n",
              "      <td>indian</td>\n",
              "    </tr>\n",
              "    <tr>\n",
              "      <th>2</th>\n",
              "      <td>tahira bibi</td>\n",
              "      <td>indian</td>\n",
              "    </tr>\n",
              "    <tr>\n",
              "      <th>3</th>\n",
              "      <td>shambu dayal</td>\n",
              "      <td>indian</td>\n",
              "    </tr>\n",
              "    <tr>\n",
              "      <th>4</th>\n",
              "      <td>prof. harro niemeier</td>\n",
              "      <td>non_indian</td>\n",
              "    </tr>\n",
              "  </tbody>\n",
              "</table>\n",
              "</div>"
            ],
            "text/plain": [
              "                   name       label\n",
              "0          tufail ahamd      indian\n",
              "1              md savir      indian\n",
              "2           tahira bibi      indian\n",
              "3          shambu dayal      indian\n",
              "4  prof. harro niemeier  non_indian"
            ]
          },
          "metadata": {
            "tags": []
          },
          "execution_count": 32
        }
      ]
    },
    {
      "cell_type": "code",
      "metadata": {
        "id": "jzhmcUUplvbJ",
        "colab_type": "code",
        "colab": {
          "base_uri": "https://localhost:8080/",
          "height": 68
        },
        "outputId": "2ecbd410-3f23-4eaa-e01b-844f96f66759"
      },
      "source": [
        "name_data['label'].value_counts()"
      ],
      "execution_count": null,
      "outputs": [
        {
          "output_type": "execute_result",
          "data": {
            "text/plain": [
              "non_indian    14560\n",
              "indian        13754\n",
              "Name: label, dtype: int64"
            ]
          },
          "metadata": {
            "tags": []
          },
          "execution_count": 33
        }
      ]
    },
    {
      "cell_type": "code",
      "metadata": {
        "id": "nIsGbp_-lzAt",
        "colab_type": "code",
        "colab": {}
      },
      "source": [
        "from sklearn.model_selection import train_test_split\n",
        "X = name_data['name'].astype(str)\n",
        "Y = name_data['label']\n",
        "train_names,test_names,train_labels,test_labels = train_test_split(X,Y,test_size=0.2,random_state =42,stratify=Y)\n"
      ],
      "execution_count": 8,
      "outputs": []
    },
    {
      "cell_type": "markdown",
      "metadata": {
        "id": "jtUSR8DXmFN0",
        "colab_type": "text"
      },
      "source": [
        "# Using Naive Bayes with Count Vectorizer for name classification"
      ]
    },
    {
      "cell_type": "code",
      "metadata": {
        "id": "EWhFc1s9mAwx",
        "colab_type": "code",
        "colab": {
          "base_uri": "https://localhost:8080/",
          "height": 34
        },
        "outputId": "b99a47bc-97f1-493c-91a6-2f9df278f20e"
      },
      "source": [
        "from sklearn.naive_bayes import MultinomialNB\n",
        "from sklearn.feature_extraction.text import CountVectorizer,TfidfVectorizer\n",
        "from sklearn.metrics import confusion_matrix,classification_report\n",
        "\n",
        "vectorizer = CountVectorizer()\n",
        "X_ = vectorizer.fit_transform(train_names.values.astype('U'))\n",
        "len(vectorizer.get_feature_names())\n"
      ],
      "execution_count": null,
      "outputs": [
        {
          "output_type": "execute_result",
          "data": {
            "text/plain": [
              "11435"
            ]
          },
          "metadata": {
            "tags": []
          },
          "execution_count": 35
        }
      ]
    },
    {
      "cell_type": "code",
      "metadata": {
        "id": "hhHeUHOZmZSA",
        "colab_type": "code",
        "colab": {
          "base_uri": "https://localhost:8080/",
          "height": 170
        },
        "outputId": "34d25615-ea01-4926-e039-0ab3fa5efe13"
      },
      "source": [
        "model = MultinomialNB()\n",
        "model.fit(X_,train_labels)\n",
        "\n",
        "X_test = vectorizer.transform(test_names.values.astype('U'))\n",
        "\n",
        "test_predicted = model.predict(X_test)\n",
        "\n",
        "print(classification_report(test_labels,test_predicted))"
      ],
      "execution_count": null,
      "outputs": [
        {
          "output_type": "stream",
          "text": [
            "              precision    recall  f1-score   support\n",
            "\n",
            "      indian       0.99      0.77      0.87      2751\n",
            "  non_indian       0.82      0.99      0.90      2912\n",
            "\n",
            "    accuracy                           0.89      5663\n",
            "   macro avg       0.91      0.88      0.88      5663\n",
            "weighted avg       0.90      0.89      0.88      5663\n",
            "\n"
          ],
          "name": "stdout"
        }
      ]
    },
    {
      "cell_type": "markdown",
      "metadata": {
        "id": "DEajV6-UqKdU",
        "colab_type": "text"
      },
      "source": [
        "**Testing on new Names**\n",
        "<br>\n",
        "Lets curate some names which are not present in the data at all. And check the model on these names"
      ]
    },
    {
      "cell_type": "code",
      "metadata": {
        "id": "NcJ8xNaZmcIe",
        "colab_type": "code",
        "colab": {
          "base_uri": "https://localhost:8080/",
          "height": 483
        },
        "outputId": "4825d934-79f4-4185-d12d-97669c6cc816"
      },
      "source": [
        "check_new_names = ['lalitha','tyson','shailaja','shyamala','vishwanathan','ramanujam','conan','kryslovsky',\n",
        "'ratnani','diego','kakoli','shreyas','brayden','shanon']\n",
        "\n",
        "X_new = vectorizer.transform(check_new_names)\n",
        "predictions_nb_cv = model.predict(X_new)\n",
        "test = pd.DataFrame({'names':check_new_names,'predictions_nb_cv':predictions_nb_cv}) \n",
        "test"
      ],
      "execution_count": null,
      "outputs": [
        {
          "output_type": "execute_result",
          "data": {
            "text/html": [
              "<div>\n",
              "<style scoped>\n",
              "    .dataframe tbody tr th:only-of-type {\n",
              "        vertical-align: middle;\n",
              "    }\n",
              "\n",
              "    .dataframe tbody tr th {\n",
              "        vertical-align: top;\n",
              "    }\n",
              "\n",
              "    .dataframe thead th {\n",
              "        text-align: right;\n",
              "    }\n",
              "</style>\n",
              "<table border=\"1\" class=\"dataframe\">\n",
              "  <thead>\n",
              "    <tr style=\"text-align: right;\">\n",
              "      <th></th>\n",
              "      <th>names</th>\n",
              "      <th>predictions_nb_cv</th>\n",
              "    </tr>\n",
              "  </thead>\n",
              "  <tbody>\n",
              "    <tr>\n",
              "      <th>0</th>\n",
              "      <td>lalitha</td>\n",
              "      <td>non_indian</td>\n",
              "    </tr>\n",
              "    <tr>\n",
              "      <th>1</th>\n",
              "      <td>tyson</td>\n",
              "      <td>non_indian</td>\n",
              "    </tr>\n",
              "    <tr>\n",
              "      <th>2</th>\n",
              "      <td>shailaja</td>\n",
              "      <td>non_indian</td>\n",
              "    </tr>\n",
              "    <tr>\n",
              "      <th>3</th>\n",
              "      <td>shyamala</td>\n",
              "      <td>non_indian</td>\n",
              "    </tr>\n",
              "    <tr>\n",
              "      <th>4</th>\n",
              "      <td>vishwanathan</td>\n",
              "      <td>non_indian</td>\n",
              "    </tr>\n",
              "    <tr>\n",
              "      <th>5</th>\n",
              "      <td>ramanujam</td>\n",
              "      <td>non_indian</td>\n",
              "    </tr>\n",
              "    <tr>\n",
              "      <th>6</th>\n",
              "      <td>conan</td>\n",
              "      <td>non_indian</td>\n",
              "    </tr>\n",
              "    <tr>\n",
              "      <th>7</th>\n",
              "      <td>kryslovsky</td>\n",
              "      <td>non_indian</td>\n",
              "    </tr>\n",
              "    <tr>\n",
              "      <th>8</th>\n",
              "      <td>ratnani</td>\n",
              "      <td>non_indian</td>\n",
              "    </tr>\n",
              "    <tr>\n",
              "      <th>9</th>\n",
              "      <td>diego</td>\n",
              "      <td>non_indian</td>\n",
              "    </tr>\n",
              "    <tr>\n",
              "      <th>10</th>\n",
              "      <td>kakoli</td>\n",
              "      <td>non_indian</td>\n",
              "    </tr>\n",
              "    <tr>\n",
              "      <th>11</th>\n",
              "      <td>shreyas</td>\n",
              "      <td>non_indian</td>\n",
              "    </tr>\n",
              "    <tr>\n",
              "      <th>12</th>\n",
              "      <td>brayden</td>\n",
              "      <td>non_indian</td>\n",
              "    </tr>\n",
              "    <tr>\n",
              "      <th>13</th>\n",
              "      <td>shanon</td>\n",
              "      <td>non_indian</td>\n",
              "    </tr>\n",
              "  </tbody>\n",
              "</table>\n",
              "</div>"
            ],
            "text/plain": [
              "           names predictions_nb_cv\n",
              "0        lalitha        non_indian\n",
              "1          tyson        non_indian\n",
              "2       shailaja        non_indian\n",
              "3       shyamala        non_indian\n",
              "4   vishwanathan        non_indian\n",
              "5      ramanujam        non_indian\n",
              "6          conan        non_indian\n",
              "7     kryslovsky        non_indian\n",
              "8        ratnani        non_indian\n",
              "9          diego        non_indian\n",
              "10        kakoli        non_indian\n",
              "11       shreyas        non_indian\n",
              "12       brayden        non_indian\n",
              "13        shanon        non_indian"
            ]
          },
          "metadata": {
            "tags": []
          },
          "execution_count": 46
        }
      ]
    },
    {
      "cell_type": "markdown",
      "metadata": {
        "id": "3zvPUC93o_oB",
        "colab_type": "text"
      },
      "source": [
        "Doesnt do well at all ! But thats expected. Now lets try with subword encoding\n",
        "\n"
      ]
    },
    {
      "cell_type": "markdown",
      "metadata": {
        "id": "WXlrL1LkqVqX",
        "colab_type": "text"
      },
      "source": [
        "# Naive Bayes with SentencePiece Embedding"
      ]
    },
    {
      "cell_type": "code",
      "metadata": {
        "id": "b9pn_A2Qmy1o",
        "colab_type": "code",
        "colab": {
          "base_uri": "https://localhost:8080/",
          "height": 187
        },
        "outputId": "ee54aa5c-830c-43fd-bfa9-19ef77c6affe"
      },
      "source": [
        "#!pip3 install tokenizers\n",
        "from tokenizers import ByteLevelBPETokenizer,CharBPETokenizer,SentencePieceBPETokenizer,BertWordPieceTokenizer\n",
        "\n",
        "\n",
        "f = open(\"train_names.txt\",\"w\")\n",
        "for each in list(train_names):\n",
        "\tf.write(str(each))\n",
        "\tf.write(\"\\n\")\n",
        "\n",
        "f.close()\n",
        "\n",
        "tokenizer = SentencePieceBPETokenizer()\n",
        "tokenizer.train([\"./train_names.txt\"],vocab_size=2000,min_frequency=2)\n",
        "\n",
        "encoded_tokens = [tokenizer.encode(str(each)).tokens for each in train_names]\n",
        "encoded_tokens_test = [tokenizer.encode(str(each)).tokens for each in test_names]\n",
        "\n",
        "encoded_tokens = [\" \".join(each)  for each in encoded_tokens]\n",
        "encoded_tokens_test = [\" \".join(each)  for each in encoded_tokens_test]\n",
        "\n",
        "encoded_tokens[:10]"
      ],
      "execution_count": null,
      "outputs": [
        {
          "output_type": "execute_result",
          "data": {
            "text/plain": [
              "['▁ali ▁moham ad',\n",
              " '▁ann',\n",
              " '▁smt. ▁manju ▁jat',\n",
              " '▁ar sh',\n",
              " '▁nicholas ▁st ri ck land',\n",
              " '▁san osh i',\n",
              " '▁brian ▁web ster',\n",
              " '▁kul vinder ▁kaur',\n",
              " '▁christine ▁l ong',\n",
              " '▁daniel']"
            ]
          },
          "metadata": {
            "tags": []
          },
          "execution_count": 52
        }
      ]
    },
    {
      "cell_type": "code",
      "metadata": {
        "id": "4Erx_vvLpu0H",
        "colab_type": "code",
        "colab": {
          "base_uri": "https://localhost:8080/",
          "height": 170
        },
        "outputId": "c0273eac-033d-4796-d538-6441134751b4"
      },
      "source": [
        "tfidf_vect = TfidfVectorizer()\n",
        "X_ = tfidf_vect.fit_transform(encoded_tokens)\n",
        "len(tfidf_vect.get_feature_names())\n",
        "\n",
        "model = MultinomialNB()\n",
        "model.fit(X_,train_labels)\n",
        "\n",
        "X_test = tfidf_vect.transform(encoded_tokens_test)\n",
        "\n",
        "test_predicted = model.predict(X_test)\n",
        "\n",
        "print(classification_report(test_labels,test_predicted))"
      ],
      "execution_count": null,
      "outputs": [
        {
          "output_type": "stream",
          "text": [
            "              precision    recall  f1-score   support\n",
            "\n",
            "      indian       0.97      0.97      0.97      2751\n",
            "  non_indian       0.97      0.97      0.97      2912\n",
            "\n",
            "    accuracy                           0.97      5663\n",
            "   macro avg       0.97      0.97      0.97      5663\n",
            "weighted avg       0.97      0.97      0.97      5663\n",
            "\n"
          ],
          "name": "stdout"
        }
      ]
    },
    {
      "cell_type": "markdown",
      "metadata": {
        "id": "tNu-2bb1o_Ox",
        "colab_type": "text"
      },
      "source": [
        "Pretty decent. Now lets check on some new words"
      ]
    },
    {
      "cell_type": "code",
      "metadata": {
        "id": "AcF71VnTp2gg",
        "colab_type": "code",
        "colab": {
          "base_uri": "https://localhost:8080/",
          "height": 483
        },
        "outputId": "c2f32d5b-ac60-46ef-b59f-933f783a12bc"
      },
      "source": [
        "encoded_tokens_check = [tokenizer.encode(str(each).lower()).tokens for each in check_new_names]\n",
        "encoded_tokens_check = [\" \".join(each)  for each in encoded_tokens_check]\n",
        "\n",
        "X_new = tfidf_vect.transform(encoded_tokens_check)\n",
        "predictions_nb_enc_tf = model.predict(X_new)\n",
        "test = pd.DataFrame({'names':check_new_names,'predictions_nb_enc_tf':predictions_nb_enc_tf}) \n",
        "test"
      ],
      "execution_count": null,
      "outputs": [
        {
          "output_type": "execute_result",
          "data": {
            "text/html": [
              "<div>\n",
              "<style scoped>\n",
              "    .dataframe tbody tr th:only-of-type {\n",
              "        vertical-align: middle;\n",
              "    }\n",
              "\n",
              "    .dataframe tbody tr th {\n",
              "        vertical-align: top;\n",
              "    }\n",
              "\n",
              "    .dataframe thead th {\n",
              "        text-align: right;\n",
              "    }\n",
              "</style>\n",
              "<table border=\"1\" class=\"dataframe\">\n",
              "  <thead>\n",
              "    <tr style=\"text-align: right;\">\n",
              "      <th></th>\n",
              "      <th>names</th>\n",
              "      <th>predictions_nb_enc_tf</th>\n",
              "    </tr>\n",
              "  </thead>\n",
              "  <tbody>\n",
              "    <tr>\n",
              "      <th>0</th>\n",
              "      <td>lalitha</td>\n",
              "      <td>indian</td>\n",
              "    </tr>\n",
              "    <tr>\n",
              "      <th>1</th>\n",
              "      <td>tyson</td>\n",
              "      <td>non_indian</td>\n",
              "    </tr>\n",
              "    <tr>\n",
              "      <th>2</th>\n",
              "      <td>shailaja</td>\n",
              "      <td>indian</td>\n",
              "    </tr>\n",
              "    <tr>\n",
              "      <th>3</th>\n",
              "      <td>shyamala</td>\n",
              "      <td>indian</td>\n",
              "    </tr>\n",
              "    <tr>\n",
              "      <th>4</th>\n",
              "      <td>vishwanathan</td>\n",
              "      <td>indian</td>\n",
              "    </tr>\n",
              "    <tr>\n",
              "      <th>5</th>\n",
              "      <td>ramanujam</td>\n",
              "      <td>indian</td>\n",
              "    </tr>\n",
              "    <tr>\n",
              "      <th>6</th>\n",
              "      <td>conan</td>\n",
              "      <td>non_indian</td>\n",
              "    </tr>\n",
              "    <tr>\n",
              "      <th>7</th>\n",
              "      <td>kryslovsky</td>\n",
              "      <td>non_indian</td>\n",
              "    </tr>\n",
              "    <tr>\n",
              "      <th>8</th>\n",
              "      <td>ratnani</td>\n",
              "      <td>indian</td>\n",
              "    </tr>\n",
              "    <tr>\n",
              "      <th>9</th>\n",
              "      <td>diego</td>\n",
              "      <td>non_indian</td>\n",
              "    </tr>\n",
              "    <tr>\n",
              "      <th>10</th>\n",
              "      <td>kakoli</td>\n",
              "      <td>indian</td>\n",
              "    </tr>\n",
              "    <tr>\n",
              "      <th>11</th>\n",
              "      <td>shreyas</td>\n",
              "      <td>non_indian</td>\n",
              "    </tr>\n",
              "    <tr>\n",
              "      <th>12</th>\n",
              "      <td>brayden</td>\n",
              "      <td>non_indian</td>\n",
              "    </tr>\n",
              "    <tr>\n",
              "      <th>13</th>\n",
              "      <td>shanon</td>\n",
              "      <td>indian</td>\n",
              "    </tr>\n",
              "  </tbody>\n",
              "</table>\n",
              "</div>"
            ],
            "text/plain": [
              "           names predictions_nb_enc_tf\n",
              "0        lalitha                indian\n",
              "1          tyson            non_indian\n",
              "2       shailaja                indian\n",
              "3       shyamala                indian\n",
              "4   vishwanathan                indian\n",
              "5      ramanujam                indian\n",
              "6          conan            non_indian\n",
              "7     kryslovsky            non_indian\n",
              "8        ratnani                indian\n",
              "9          diego            non_indian\n",
              "10        kakoli                indian\n",
              "11       shreyas            non_indian\n",
              "12       brayden            non_indian\n",
              "13        shanon                indian"
            ]
          },
          "metadata": {
            "tags": []
          },
          "execution_count": 54
        }
      ]
    },
    {
      "cell_type": "markdown",
      "metadata": {
        "id": "QIrMkFFUqhrs",
        "colab_type": "text"
      },
      "source": [
        "# Lets also check with a Character based encoding with an LSTM model"
      ]
    },
    {
      "cell_type": "code",
      "metadata": {
        "id": "saA3yZWEqEPf",
        "colab_type": "code",
        "colab": {}
      },
      "source": [
        "from keras.utils import to_categorical\n",
        "from keras.models import Sequential\n",
        "from keras.layers import Dense\n",
        "from keras.layers import LSTM\n",
        "from keras.preprocessing import sequence\n",
        "from keras.preprocessing.text import Tokenizer\n",
        "from keras.layers.embeddings import Embedding\n",
        "from keras.utils import to_categorical\n",
        "import numpy as np\n",
        "from sklearn.preprocessing import LabelEncoder\n",
        "from keras.callbacks import Callback\n",
        "np.random.seed(42)\n"
      ],
      "execution_count": 5,
      "outputs": []
    },
    {
      "cell_type": "code",
      "metadata": {
        "id": "WuaX0K3JqxxQ",
        "colab_type": "code",
        "colab": {}
      },
      "source": [
        "\n",
        "def char_encoded_representation(data,tokenizer,vocab_size,max_len):\n",
        "\tchar_index_sentences = tokenizer.texts_to_sequences(data)\n",
        "\tsequences = [to_categorical(x, num_classes=vocab_size) for x in char_index_sentences]\n",
        "\tX = sequence.pad_sequences(sequences, maxlen=max_len)\n",
        "\treturn X\n"
      ],
      "execution_count": 6,
      "outputs": []
    },
    {
      "cell_type": "code",
      "metadata": {
        "id": "lB7BUz-tq4UT",
        "colab_type": "code",
        "colab": {
          "base_uri": "https://localhost:8080/",
          "height": 34
        },
        "outputId": "21fe1559-88f1-4d02-a73b-e584212fbebd"
      },
      "source": [
        "max_len = max([len(str(each)) for each in train_names])\n",
        "# mapping = get_char_mapping(train_names)\n",
        "# vocab_size = len(mapping)\n",
        "\n",
        "tok = Tokenizer(char_level=True)\n",
        "tok.fit_on_texts(train_names)\n",
        "vocab_size = len(tok.word_index) + 1\n",
        "X_train = char_encoded_representation(train_names,tok,vocab_size,max_len)\n",
        "X_train.shape"
      ],
      "execution_count": 9,
      "outputs": [
        {
          "output_type": "execute_result",
          "data": {
            "text/plain": [
              "(22651, 36, 53)"
            ]
          },
          "metadata": {
            "tags": []
          },
          "execution_count": 9
        }
      ]
    },
    {
      "cell_type": "code",
      "metadata": {
        "id": "qTqGCylxrpwj",
        "colab_type": "code",
        "colab": {
          "base_uri": "https://localhost:8080/",
          "height": 34
        },
        "outputId": "18b4734b-8fe5-4a65-9232-a4cd219bc848"
      },
      "source": [
        "X_test = char_encoded_representation(test_names,tok,vocab_size,max_len)\n",
        "X_test.shape\n"
      ],
      "execution_count": 10,
      "outputs": [
        {
          "output_type": "execute_result",
          "data": {
            "text/plain": [
              "(5663, 36, 53)"
            ]
          },
          "metadata": {
            "tags": []
          },
          "execution_count": 10
        }
      ]
    },
    {
      "cell_type": "code",
      "metadata": {
        "id": "_9-KFv-QrzdN",
        "colab_type": "code",
        "colab": {}
      },
      "source": [
        "le = LabelEncoder()\n",
        "le.fit(train_labels)\n",
        "y_train = le.transform(train_labels)\n",
        "y_test = le.transform(test_labels)\n"
      ],
      "execution_count": 11,
      "outputs": []
    },
    {
      "cell_type": "code",
      "metadata": {
        "id": "YW0rZXAFr2Bs",
        "colab_type": "code",
        "colab": {}
      },
      "source": [
        "# Model Specification\n",
        "\n",
        "\n",
        "def build_model(hidden_units,max_len,vocab_size):\n",
        "\tmodel = Sequential()\n",
        "\t# model.add(Embedding(top_words, embedding_vecor_length, input_length=max_review_length))\n",
        "\tmodel.add(LSTM(hidden_units,input_shape=(max_len,vocab_size)))\n",
        "\tmodel.add(Dense(1, activation='sigmoid'))\n",
        "\tmodel.compile(loss='binary_crossentropy', optimizer='adam', metrics=['accuracy'])\n",
        "\tprint(model.summary())\n",
        "\treturn model\n",
        "\n",
        "class myCallback(Callback): \n",
        "\tdef __init__(self,X_test,y_test):\n",
        "\t\tself.X_test = X_test\n",
        "\t\tself.y_test = y_test\n",
        "\tdef on_epoch_end(self, epoch, logs={}): \n",
        "\t\tloss,acc = model.evaluate(self.X_test, self.y_test, verbose=0)\n",
        "\t\tprint('\\nTesting loss: {}, acc: {}\\n'.format(loss, acc))\n"
      ],
      "execution_count": null,
      "outputs": []
    },
    {
      "cell_type": "code",
      "metadata": {
        "id": "OEmIzQXssKZG",
        "colab_type": "code",
        "colab": {
          "base_uri": "https://localhost:8080/",
          "height": 1000
        },
        "outputId": "e24ed0aa-0725-4ad7-be5e-8d1f942f5b3e"
      },
      "source": [
        "model = build_model(100,max_len,vocab_size)\n",
        "model.fit(X_train, y_train, epochs=20, batch_size=64,callbacks=myCallback(X_test,y_test))\n"
      ],
      "execution_count": null,
      "outputs": [
        {
          "output_type": "stream",
          "text": [
            "Model: \"sequential_1\"\n",
            "_________________________________________________________________\n",
            "Layer (type)                 Output Shape              Param #   \n",
            "=================================================================\n",
            "lstm_1 (LSTM)                (None, 100)               61600     \n",
            "_________________________________________________________________\n",
            "dense_1 (Dense)              (None, 1)                 101       \n",
            "=================================================================\n",
            "Total params: 61,701\n",
            "Trainable params: 61,701\n",
            "Non-trainable params: 0\n",
            "_________________________________________________________________\n",
            "None\n",
            "Epoch 1/20\n",
            "353/354 [============================>.] - ETA: 0s - loss: 0.4086 - accuracy: 0.8139\n",
            "Testing loss: 0.3409741520881653, acc: 0.8458414077758789\n",
            "\n",
            "354/354 [==============================] - 15s 44ms/step - loss: 0.4083 - accuracy: 0.8141\n",
            "Epoch 2/20\n",
            "353/354 [============================>.] - ETA: 0s - loss: 0.2953 - accuracy: 0.8700\n",
            "Testing loss: 0.2621632516384125, acc: 0.8848666548728943\n",
            "\n",
            "354/354 [==============================] - 15s 43ms/step - loss: 0.2953 - accuracy: 0.8700\n",
            "Epoch 3/20\n",
            "353/354 [============================>.] - ETA: 0s - loss: 0.2389 - accuracy: 0.9003\n",
            "Testing loss: 0.2402869462966919, acc: 0.9011124968528748\n",
            "\n",
            "354/354 [==============================] - 15s 43ms/step - loss: 0.2391 - accuracy: 0.9002\n",
            "Epoch 4/20\n",
            "354/354 [==============================] - ETA: 0s - loss: 0.1997 - accuracy: 0.9193\n",
            "Testing loss: 0.1855960190296173, acc: 0.926540732383728\n",
            "\n",
            "354/354 [==============================] - 15s 43ms/step - loss: 0.1997 - accuracy: 0.9193\n",
            "Epoch 5/20\n",
            "354/354 [==============================] - ETA: 0s - loss: 0.1741 - accuracy: 0.9310\n",
            "Testing loss: 0.17371733486652374, acc: 0.9334275126457214\n",
            "\n",
            "354/354 [==============================] - 15s 43ms/step - loss: 0.1741 - accuracy: 0.9310\n",
            "Epoch 6/20\n",
            "354/354 [==============================] - ETA: 0s - loss: 0.1575 - accuracy: 0.9375\n",
            "Testing loss: 0.15379096567630768, acc: 0.9404909014701843\n",
            "\n",
            "354/354 [==============================] - 15s 43ms/step - loss: 0.1575 - accuracy: 0.9375\n",
            "Epoch 7/20\n",
            "353/354 [============================>.] - ETA: 0s - loss: 0.1396 - accuracy: 0.9462\n",
            "Testing loss: 0.14643630385398865, acc: 0.9431396722793579\n",
            "\n",
            "354/354 [==============================] - 15s 43ms/step - loss: 0.1395 - accuracy: 0.9462\n",
            "Epoch 8/20\n",
            "354/354 [==============================] - ETA: 0s - loss: 0.1271 - accuracy: 0.9521\n",
            "Testing loss: 0.13627056777477264, acc: 0.9486138224601746\n",
            "\n",
            "354/354 [==============================] - 16s 47ms/step - loss: 0.1271 - accuracy: 0.9521\n",
            "Epoch 9/20\n",
            "354/354 [==============================] - ETA: 0s - loss: 0.1165 - accuracy: 0.9564\n",
            "Testing loss: 0.1354840248823166, acc: 0.9523220658302307\n",
            "\n",
            "354/354 [==============================] - 15s 43ms/step - loss: 0.1165 - accuracy: 0.9564\n",
            "Epoch 10/20\n",
            "354/354 [==============================] - ETA: 0s - loss: 0.1074 - accuracy: 0.9603\n",
            "Testing loss: 0.1266116350889206, acc: 0.9537347555160522\n",
            "\n",
            "354/354 [==============================] - 15s 42ms/step - loss: 0.1074 - accuracy: 0.9603\n",
            "Epoch 11/20\n",
            "353/354 [============================>.] - ETA: 0s - loss: 0.0976 - accuracy: 0.9632\n",
            "Testing loss: 0.12531715631484985, acc: 0.9542645215988159\n",
            "\n",
            "354/354 [==============================] - 16s 45ms/step - loss: 0.0977 - accuracy: 0.9632\n",
            "Epoch 12/20\n",
            "353/354 [============================>.] - ETA: 0s - loss: 0.0895 - accuracy: 0.9671\n",
            "Testing loss: 0.11738555133342743, acc: 0.957089900970459\n",
            "\n",
            "354/354 [==============================] - 15s 43ms/step - loss: 0.0895 - accuracy: 0.9671\n",
            "Epoch 13/20\n",
            "353/354 [============================>.] - ETA: 0s - loss: 0.0831 - accuracy: 0.9702\n",
            "Testing loss: 0.1106586754322052, acc: 0.9634469151496887\n",
            "\n",
            "354/354 [==============================] - 15s 43ms/step - loss: 0.0833 - accuracy: 0.9701\n",
            "Epoch 14/20\n",
            "353/354 [============================>.] - ETA: 0s - loss: 0.0753 - accuracy: 0.9734\n",
            "Testing loss: 0.1146264374256134, acc: 0.9606215953826904\n",
            "\n",
            "354/354 [==============================] - 15s 43ms/step - loss: 0.0753 - accuracy: 0.9733\n",
            "Epoch 15/20\n",
            "354/354 [==============================] - ETA: 0s - loss: 0.0693 - accuracy: 0.9753\n",
            "Testing loss: 0.11677579581737518, acc: 0.9606215953826904\n",
            "\n",
            "354/354 [==============================] - 15s 43ms/step - loss: 0.0693 - accuracy: 0.9753\n",
            "Epoch 16/20\n",
            "354/354 [==============================] - ETA: 0s - loss: 0.0650 - accuracy: 0.9772\n",
            "Testing loss: 0.10987245291471481, acc: 0.9652127623558044\n",
            "\n",
            "354/354 [==============================] - 15s 43ms/step - loss: 0.0650 - accuracy: 0.9772\n",
            "Epoch 17/20\n",
            "354/354 [==============================] - ETA: 0s - loss: 0.0624 - accuracy: 0.9785\n",
            "Testing loss: 0.12597452104091644, acc: 0.9607981443405151\n",
            "\n",
            "354/354 [==============================] - 15s 43ms/step - loss: 0.0624 - accuracy: 0.9785\n",
            "Epoch 18/20\n",
            "354/354 [==============================] - ETA: 0s - loss: 0.0565 - accuracy: 0.9793\n",
            "Testing loss: 0.11926815658807755, acc: 0.961681067943573\n",
            "\n",
            "354/354 [==============================] - 15s 43ms/step - loss: 0.0565 - accuracy: 0.9793\n",
            "Epoch 19/20\n",
            "353/354 [============================>.] - ETA: 0s - loss: 0.0517 - accuracy: 0.9825\n",
            "Testing loss: 0.11457749456167221, acc: 0.9669786095619202\n",
            "\n",
            "354/354 [==============================] - 15s 43ms/step - loss: 0.0517 - accuracy: 0.9825\n",
            "Epoch 20/20\n",
            "354/354 [==============================] - ETA: 0s - loss: 0.0505 - accuracy: 0.9822\n",
            "Testing loss: 0.11983095854520798, acc: 0.9650362133979797\n",
            "\n",
            "354/354 [==============================] - 15s 42ms/step - loss: 0.0505 - accuracy: 0.9822\n"
          ],
          "name": "stdout"
        },
        {
          "output_type": "execute_result",
          "data": {
            "text/plain": [
              "<tensorflow.python.keras.callbacks.History at 0x7fc4cadfc518>"
            ]
          },
          "metadata": {
            "tags": []
          },
          "execution_count": 65
        }
      ]
    },
    {
      "cell_type": "code",
      "metadata": {
        "id": "lhF4iG0GsQIn",
        "colab_type": "code",
        "colab": {
          "base_uri": "https://localhost:8080/",
          "height": 483
        },
        "outputId": "497eabb6-e355-4ea3-b443-099b5280f3f9"
      },
      "source": [
        "X_predict = char_encoded_representation(check_new_names,mapping)\n",
        "\n",
        "predictions_prob = model.predict(X_predict)\n",
        "predictions = np.array(predictions_prob)\n",
        "predictions[predictions > 0.5] = 1\n",
        "predictions[predictions <= 0.5] = 0\n",
        "predictions = np.squeeze(predictions)\n",
        "predictions_lstm_char = le.inverse_transform(list(predictions.astype(int)))\n",
        "test = pd.DataFrame({'names':check_new_names,'predictions_lstm_char':predictions_lstm_char}) \n",
        "test"
      ],
      "execution_count": null,
      "outputs": [
        {
          "output_type": "execute_result",
          "data": {
            "text/html": [
              "<div>\n",
              "<style scoped>\n",
              "    .dataframe tbody tr th:only-of-type {\n",
              "        vertical-align: middle;\n",
              "    }\n",
              "\n",
              "    .dataframe tbody tr th {\n",
              "        vertical-align: top;\n",
              "    }\n",
              "\n",
              "    .dataframe thead th {\n",
              "        text-align: right;\n",
              "    }\n",
              "</style>\n",
              "<table border=\"1\" class=\"dataframe\">\n",
              "  <thead>\n",
              "    <tr style=\"text-align: right;\">\n",
              "      <th></th>\n",
              "      <th>names</th>\n",
              "      <th>predictions_lstm_char</th>\n",
              "    </tr>\n",
              "  </thead>\n",
              "  <tbody>\n",
              "    <tr>\n",
              "      <th>0</th>\n",
              "      <td>lalitha</td>\n",
              "      <td>indian</td>\n",
              "    </tr>\n",
              "    <tr>\n",
              "      <th>1</th>\n",
              "      <td>tyson</td>\n",
              "      <td>non_indian</td>\n",
              "    </tr>\n",
              "    <tr>\n",
              "      <th>2</th>\n",
              "      <td>shailaja</td>\n",
              "      <td>indian</td>\n",
              "    </tr>\n",
              "    <tr>\n",
              "      <th>3</th>\n",
              "      <td>shyamala</td>\n",
              "      <td>indian</td>\n",
              "    </tr>\n",
              "    <tr>\n",
              "      <th>4</th>\n",
              "      <td>vishwanathan</td>\n",
              "      <td>indian</td>\n",
              "    </tr>\n",
              "    <tr>\n",
              "      <th>5</th>\n",
              "      <td>ramanujam</td>\n",
              "      <td>indian</td>\n",
              "    </tr>\n",
              "    <tr>\n",
              "      <th>6</th>\n",
              "      <td>conan</td>\n",
              "      <td>non_indian</td>\n",
              "    </tr>\n",
              "    <tr>\n",
              "      <th>7</th>\n",
              "      <td>kryslovsky</td>\n",
              "      <td>non_indian</td>\n",
              "    </tr>\n",
              "    <tr>\n",
              "      <th>8</th>\n",
              "      <td>ratnani</td>\n",
              "      <td>indian</td>\n",
              "    </tr>\n",
              "    <tr>\n",
              "      <th>9</th>\n",
              "      <td>diego</td>\n",
              "      <td>non_indian</td>\n",
              "    </tr>\n",
              "    <tr>\n",
              "      <th>10</th>\n",
              "      <td>kakoli</td>\n",
              "      <td>indian</td>\n",
              "    </tr>\n",
              "    <tr>\n",
              "      <th>11</th>\n",
              "      <td>shreyas</td>\n",
              "      <td>indian</td>\n",
              "    </tr>\n",
              "    <tr>\n",
              "      <th>12</th>\n",
              "      <td>brayden</td>\n",
              "      <td>non_indian</td>\n",
              "    </tr>\n",
              "    <tr>\n",
              "      <th>13</th>\n",
              "      <td>shanon</td>\n",
              "      <td>non_indian</td>\n",
              "    </tr>\n",
              "  </tbody>\n",
              "</table>\n",
              "</div>"
            ],
            "text/plain": [
              "           names predictions_lstm_char\n",
              "0        lalitha                indian\n",
              "1          tyson            non_indian\n",
              "2       shailaja                indian\n",
              "3       shyamala                indian\n",
              "4   vishwanathan                indian\n",
              "5      ramanujam                indian\n",
              "6          conan            non_indian\n",
              "7     kryslovsky            non_indian\n",
              "8        ratnani                indian\n",
              "9          diego            non_indian\n",
              "10        kakoli                indian\n",
              "11       shreyas                indian\n",
              "12       brayden            non_indian\n",
              "13        shanon            non_indian"
            ]
          },
          "metadata": {
            "tags": []
          },
          "execution_count": 72
        }
      ]
    },
    {
      "cell_type": "markdown",
      "metadata": {
        "id": "63QcsQYJurHV",
        "colab_type": "text"
      },
      "source": [
        "# SentencePiece Encoding with LSTM\n",
        "Lets also check with a encoding using the SentencePiece Encoding we used for Naive Bayes. But now we will use it with an LSTM with a much smaller vocabulary"
      ]
    },
    {
      "cell_type": "code",
      "metadata": {
        "id": "PnRNVUjIua9A",
        "colab_type": "code",
        "colab": {}
      },
      "source": [
        "from tokenizers import ByteLevelBPETokenizer,CharBPETokenizer,SentencePieceBPETokenizer,BertWordPieceTokenizer\n",
        "vocab_size = 200\n",
        "\n",
        "tokenizer = SentencePieceBPETokenizer()\n",
        "tokenizer.train([\"./train_names.txt\"],vocab_size=vocab_size,min_frequency=2)\n",
        "\n",
        "\n",
        "def sent_piece_encoded_representation(data,tokenizer):\n",
        "\tencoded_tokens = [tokenizer.encode(str(each)).ids for each in data]\n",
        "\tsequences = [to_categorical(x, num_classes=vocab_size) for x in encoded_tokens]\n",
        "\tX = sequence.pad_sequences(sequences, maxlen=max_len)\n",
        "\treturn X"
      ],
      "execution_count": null,
      "outputs": []
    },
    {
      "cell_type": "code",
      "metadata": {
        "id": "yYMi3uQhz5KC",
        "colab_type": "code",
        "colab": {
          "base_uri": "https://localhost:8080/",
          "height": 34
        },
        "outputId": "8004d656-9787-461c-9dad-ee6dd04a4f61"
      },
      "source": [
        "max_len = max([len(str(each)) for each in train_names])\n",
        "le = LabelEncoder()\n",
        "le.fit(train_labels)\n",
        "y_train = le.transform(train_labels)\n",
        "y_test = le.transform(test_labels)\n",
        "\n",
        "\n",
        "X_train = sent_piece_encoded_representation(train_names,tokenizer)\n",
        "X_train.shape\n"
      ],
      "execution_count": null,
      "outputs": [
        {
          "output_type": "execute_result",
          "data": {
            "text/plain": [
              "(22651, 36, 200)"
            ]
          },
          "metadata": {
            "tags": []
          },
          "execution_count": 99
        }
      ]
    },
    {
      "cell_type": "code",
      "metadata": {
        "id": "yuiv_nmv1YVy",
        "colab_type": "code",
        "colab": {
          "base_uri": "https://localhost:8080/",
          "height": 34
        },
        "outputId": "a7c52603-eb72-467d-847a-ba3d8450a563"
      },
      "source": [
        "X_test = sent_piece_encoded_representation(test_names,tokenizer)\n",
        "X_test.shape"
      ],
      "execution_count": null,
      "outputs": [
        {
          "output_type": "execute_result",
          "data": {
            "text/plain": [
              "(5663, 36, 200)"
            ]
          },
          "metadata": {
            "tags": []
          },
          "execution_count": 100
        }
      ]
    },
    {
      "cell_type": "code",
      "metadata": {
        "id": "b6D9PbO51jBq",
        "colab_type": "code",
        "colab": {
          "base_uri": "https://localhost:8080/",
          "height": 1000
        },
        "outputId": "ed6d22ba-c9bb-4aba-a31a-dec914bae1dd"
      },
      "source": [
        "model = build_model(100,max_len,vocab_size)\n",
        "model.fit(X_train, y_train, epochs=12, batch_size=64,callbacks=myCallback(X_test,y_test))\n"
      ],
      "execution_count": null,
      "outputs": [
        {
          "output_type": "stream",
          "text": [
            "Model: \"sequential_6\"\n",
            "_________________________________________________________________\n",
            "Layer (type)                 Output Shape              Param #   \n",
            "=================================================================\n",
            "lstm_6 (LSTM)                (None, 100)               120400    \n",
            "_________________________________________________________________\n",
            "dense_6 (Dense)              (None, 1)                 101       \n",
            "=================================================================\n",
            "Total params: 120,501\n",
            "Trainable params: 120,501\n",
            "Non-trainable params: 0\n",
            "_________________________________________________________________\n",
            "None\n",
            "Epoch 1/12\n",
            "354/354 [==============================] - ETA: 0s - loss: 0.3208 - accuracy: 0.8677\n",
            "Testing loss: 0.2177201509475708, acc: 0.9141797423362732\n",
            "\n",
            "354/354 [==============================] - 25s 70ms/step - loss: 0.3208 - accuracy: 0.8677\n",
            "Epoch 2/12\n",
            "354/354 [==============================] - ETA: 0s - loss: 0.1985 - accuracy: 0.9188\n",
            "Testing loss: 0.18794947862625122, acc: 0.9214197397232056\n",
            "\n",
            "354/354 [==============================] - 25s 71ms/step - loss: 0.1985 - accuracy: 0.9188\n",
            "Epoch 3/12\n",
            "354/354 [==============================] - ETA: 0s - loss: 0.1740 - accuracy: 0.9283\n",
            "Testing loss: 0.1680028885602951, acc: 0.9337806701660156\n",
            "\n",
            "354/354 [==============================] - 24s 68ms/step - loss: 0.1740 - accuracy: 0.9283\n",
            "Epoch 4/12\n",
            "354/354 [==============================] - ETA: 0s - loss: 0.1572 - accuracy: 0.9368\n",
            "Testing loss: 0.15903355181217194, acc: 0.9355465173721313\n",
            "\n",
            "354/354 [==============================] - 24s 68ms/step - loss: 0.1572 - accuracy: 0.9368\n",
            "Epoch 5/12\n",
            "354/354 [==============================] - ETA: 0s - loss: 0.1419 - accuracy: 0.9427\n",
            "Testing loss: 0.151988223195076, acc: 0.9396079778671265\n",
            "\n",
            "354/354 [==============================] - 25s 70ms/step - loss: 0.1419 - accuracy: 0.9427\n",
            "Epoch 6/12\n",
            "354/354 [==============================] - ETA: 0s - loss: 0.1309 - accuracy: 0.9467\n",
            "Testing loss: 0.14407828450202942, acc: 0.9441992044448853\n",
            "\n",
            "354/354 [==============================] - 25s 70ms/step - loss: 0.1309 - accuracy: 0.9467\n",
            "Epoch 7/12\n",
            "354/354 [==============================] - ETA: 0s - loss: 0.1185 - accuracy: 0.9525\n",
            "Testing loss: 0.13729199767112732, acc: 0.9496732950210571\n",
            "\n",
            "354/354 [==============================] - 25s 69ms/step - loss: 0.1185 - accuracy: 0.9525\n",
            "Epoch 8/12\n",
            "354/354 [==============================] - ETA: 0s - loss: 0.1079 - accuracy: 0.9579\n",
            "Testing loss: 0.1274905651807785, acc: 0.9532049894332886\n",
            "\n",
            "354/354 [==============================] - 24s 69ms/step - loss: 0.1079 - accuracy: 0.9579\n",
            "Epoch 9/12\n",
            "354/354 [==============================] - ETA: 0s - loss: 0.0967 - accuracy: 0.9624\n",
            "Testing loss: 0.12211143970489502, acc: 0.9544411301612854\n",
            "\n",
            "354/354 [==============================] - 24s 68ms/step - loss: 0.0967 - accuracy: 0.9624\n",
            "Epoch 10/12\n",
            "354/354 [==============================] - ETA: 0s - loss: 0.0856 - accuracy: 0.9684\n",
            "Testing loss: 0.12029979377985, acc: 0.9590322971343994\n",
            "\n",
            "354/354 [==============================] - 24s 68ms/step - loss: 0.0856 - accuracy: 0.9684\n",
            "Epoch 11/12\n",
            "354/354 [==============================] - ETA: 0s - loss: 0.0750 - accuracy: 0.9721\n",
            "Testing loss: 0.11854159832000732, acc: 0.9574430584907532\n",
            "\n",
            "354/354 [==============================] - 24s 68ms/step - loss: 0.0750 - accuracy: 0.9721\n",
            "Epoch 12/12\n",
            "354/354 [==============================] - ETA: 0s - loss: 0.0672 - accuracy: 0.9747\n",
            "Testing loss: 0.12184077501296997, acc: 0.9565601348876953\n",
            "\n",
            "354/354 [==============================] - 24s 68ms/step - loss: 0.0672 - accuracy: 0.9747\n"
          ],
          "name": "stdout"
        },
        {
          "output_type": "execute_result",
          "data": {
            "text/plain": [
              "<tensorflow.python.keras.callbacks.History at 0x7fc4cd2f8d30>"
            ]
          },
          "metadata": {
            "tags": []
          },
          "execution_count": 103
        }
      ]
    },
    {
      "cell_type": "code",
      "metadata": {
        "id": "Ni8MkcTf1pzo",
        "colab_type": "code",
        "colab": {
          "base_uri": "https://localhost:8080/",
          "height": 483
        },
        "outputId": "02335ab6-8e9d-4116-fad7-a6d75c81649a"
      },
      "source": [
        "X_predict = sent_piece_encoded_representation(check_new_names,tokenizer)\n",
        "\n",
        "predictions_prob = model.predict(X_predict)\n",
        "predictions = np.array(predictions_prob)\n",
        "predictions[np.where(predictions > 0.5)[0]] = 1\n",
        "predictions[np.where(predictions <= 0.5)[0]] = 0\n",
        "predictions = np.squeeze(predictions)\n",
        "\n",
        "predictions_lstm_sent_enc = le.inverse_transform(list(predictions.astype(int)))\n",
        "test = pd.DataFrame({'names':check_new_names,'predictions_lstm_sent_enc':predictions_lstm_sent_enc}) \n",
        "test"
      ],
      "execution_count": null,
      "outputs": [
        {
          "output_type": "execute_result",
          "data": {
            "text/html": [
              "<div>\n",
              "<style scoped>\n",
              "    .dataframe tbody tr th:only-of-type {\n",
              "        vertical-align: middle;\n",
              "    }\n",
              "\n",
              "    .dataframe tbody tr th {\n",
              "        vertical-align: top;\n",
              "    }\n",
              "\n",
              "    .dataframe thead th {\n",
              "        text-align: right;\n",
              "    }\n",
              "</style>\n",
              "<table border=\"1\" class=\"dataframe\">\n",
              "  <thead>\n",
              "    <tr style=\"text-align: right;\">\n",
              "      <th></th>\n",
              "      <th>names</th>\n",
              "      <th>predictions_lstm_sent_enc</th>\n",
              "    </tr>\n",
              "  </thead>\n",
              "  <tbody>\n",
              "    <tr>\n",
              "      <th>0</th>\n",
              "      <td>lalitha</td>\n",
              "      <td>indian</td>\n",
              "    </tr>\n",
              "    <tr>\n",
              "      <th>1</th>\n",
              "      <td>tyson</td>\n",
              "      <td>non_indian</td>\n",
              "    </tr>\n",
              "    <tr>\n",
              "      <th>2</th>\n",
              "      <td>shailaja</td>\n",
              "      <td>non_indian</td>\n",
              "    </tr>\n",
              "    <tr>\n",
              "      <th>3</th>\n",
              "      <td>shyamala</td>\n",
              "      <td>indian</td>\n",
              "    </tr>\n",
              "    <tr>\n",
              "      <th>4</th>\n",
              "      <td>vishwanathan</td>\n",
              "      <td>indian</td>\n",
              "    </tr>\n",
              "    <tr>\n",
              "      <th>5</th>\n",
              "      <td>ramanujam</td>\n",
              "      <td>indian</td>\n",
              "    </tr>\n",
              "    <tr>\n",
              "      <th>6</th>\n",
              "      <td>conan</td>\n",
              "      <td>non_indian</td>\n",
              "    </tr>\n",
              "    <tr>\n",
              "      <th>7</th>\n",
              "      <td>kryslovsky</td>\n",
              "      <td>non_indian</td>\n",
              "    </tr>\n",
              "    <tr>\n",
              "      <th>8</th>\n",
              "      <td>ratnani</td>\n",
              "      <td>indian</td>\n",
              "    </tr>\n",
              "    <tr>\n",
              "      <th>9</th>\n",
              "      <td>diego</td>\n",
              "      <td>non_indian</td>\n",
              "    </tr>\n",
              "    <tr>\n",
              "      <th>10</th>\n",
              "      <td>kakoli</td>\n",
              "      <td>indian</td>\n",
              "    </tr>\n",
              "    <tr>\n",
              "      <th>11</th>\n",
              "      <td>shreyas</td>\n",
              "      <td>indian</td>\n",
              "    </tr>\n",
              "    <tr>\n",
              "      <th>12</th>\n",
              "      <td>brayden</td>\n",
              "      <td>non_indian</td>\n",
              "    </tr>\n",
              "    <tr>\n",
              "      <th>13</th>\n",
              "      <td>shanon</td>\n",
              "      <td>non_indian</td>\n",
              "    </tr>\n",
              "  </tbody>\n",
              "</table>\n",
              "</div>"
            ],
            "text/plain": [
              "           names predictions_lstm_sent_enc\n",
              "0        lalitha                    indian\n",
              "1          tyson                non_indian\n",
              "2       shailaja                non_indian\n",
              "3       shyamala                    indian\n",
              "4   vishwanathan                    indian\n",
              "5      ramanujam                    indian\n",
              "6          conan                non_indian\n",
              "7     kryslovsky                non_indian\n",
              "8        ratnani                    indian\n",
              "9          diego                non_indian\n",
              "10        kakoli                    indian\n",
              "11       shreyas                    indian\n",
              "12       brayden                non_indian\n",
              "13        shanon                non_indian"
            ]
          },
          "metadata": {
            "tags": []
          },
          "execution_count": 105
        }
      ]
    },
    {
      "cell_type": "code",
      "metadata": {
        "id": "rdbSyOOpMhMf",
        "colab_type": "code",
        "colab": {}
      },
      "source": [
        ""
      ],
      "execution_count": null,
      "outputs": []
    }
  ]
}